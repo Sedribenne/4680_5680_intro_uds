{
 "cells": [
  {
   "attachments": {},
   "cell_type": "markdown",
   "id": "clean-sessions",
   "metadata": {},
   "source": [
    "#  Github and setting up your class folders\n",
    "Here's a guide on how you can organize your course folders - both the materials from me and your own version of them - on your computer. \n",
    "\n",
    "I mentioned that there are some different ways you can organize how you work with the class files. Here's are two suggested methods: "
   ]
  },
  {
   "attachments": {},
   "cell_type": "markdown",
   "id": "iraqi-funds",
   "metadata": {},
   "source": [
    "# 1. No Git method\n",
    "\n",
    "The lower-tech way to get the course materials on to your own computer is probably to download a zip of the course files each class and move the new files from each lecture into your class folder, which you might call something like `intro_UDS`.\n",
    "\n",
    "\n",
    "<figure class=\"image\">\n",
    "<img src=\"https://www.dropbox.com/s/1orc4yp4g1mw4ke/Screen%20Shot%202023-01-30%20at%2012.55.43%20PM.png?dl=1\" alt=\"drawing\" width=\"1000\" style=\"display: block; margin: 0 auto\"/>\n",
    "</figure>"
   ]
  },
  {
   "attachments": {},
   "cell_type": "markdown",
   "id": "3f529455",
   "metadata": {},
   "source": [
    "# 2. Using git/Github to fork the repo\n",
    "Github is a platform that facilitates software development through Git, which is a tool that allows you to keep track of the changes you made to code/software. This allows multiple contributors to code at the same time\n",
    "\n",
    "We are going to learn just enough Git to learn how to fetch new course materials to your own computer. \n",
    "\n",
    "### Github account set-up\n",
    "- Create a github account by selecting **Sign up** on the [Github homepage](https://github.com/).\n",
    "- Once you've logged in, you should get something that looks like this if this is your first time using github.\n",
    "\n",
    "\n",
    "<figure class=\"image\">\n",
    "<img src=\"https://www.dropbox.com/s/rfo4ns3352avkjz/github1.png?dl=1\" alt=\"drawing\" width=\"1000\" style=\"display: block; margin: 0 auto\"/>\n",
    "</figure>"
   ]
  },
  {
   "attachments": {},
   "cell_type": "markdown",
   "id": "52fb0dff",
   "metadata": {},
   "source": [
    "Now go to the course repo: https://github.com/iamwfx/4680_5680_intro_uds\n",
    "\n",
    "Click on `Fork` in the upper-right hand corner: \n",
    "\n",
    "<figure class=\"image\">\n",
    "<img src=\"https://www.dropbox.com/s/s615elxs1bzm27t/Screen%20Shot%202023-01-30%20at%201.35.25%20PM.png?dl=1\" alt=\"drawing\" width=\"1000\" style=\"display: block; margin: 0 auto\"/>\n",
    "</figure>\n"
   ]
  },
  {
   "attachments": {},
   "cell_type": "markdown",
   "id": "0d274c9a",
   "metadata": {},
   "source": [
    "This will take you to a page like this: \n",
    "<figure class=\"image\">\n",
    "<img src=\"https://www.dropbox.com/s/j1n1takqvk9en8j/Screen%20Shot%202023-01-30%20at%201.35.37%20PM.png?dl=1\" alt=\"drawing\" width=\"1000\" style=\"display: block; margin: 0 auto\"/>\n",
    "</figure>\n"
   ]
  },
  {
   "attachments": {},
   "cell_type": "markdown",
   "id": "db9df414",
   "metadata": {},
   "source": [
    "Click on the green `Create fork` button. You should now see your own version of the repo that's been forked from the class repo: \n",
    "\n",
    "<figure class=\"image\">\n",
    "<img src=\"https://www.dropbox.com/s/whhwxactlkhzdcs/Screen%20Shot%202023-01-30%20at%201.39.04%20PM.png?dl=1\" alt=\"drawing\" width=\"600\" style=\"display: block; margin: 0 auto\"/>\n",
    "</figure>\n",
    "\n"
   ]
  },
  {
   "attachments": {},
   "cell_type": "markdown",
   "id": "222b783c",
   "metadata": {},
   "source": [
    "Now install Github Desktop on your computer and log into your Github account by following [these instructions](https://docs.github.com/en/desktop/installing-and-configuring-github-desktop/overview/getting-started-with-github-desktop!). \n",
    "\n",
    "\n",
    "You really only need to do up to **Part 1: Installing and authenticating**. \n",
    "\n",
    "Now, under **File** in your Github Desktop toolbar, select **Clone Repository**\n",
    "\n",
    "\n",
    "<figure class=\"image\">\n",
    "<img src=\"https://www.dropbox.com/s/kim4pvp52czs9bm/Screen%20Shot%202023-01-30%20at%201.43.23%20PM.png?dl=1\" alt=\"drawing\" width=\"600\" style=\"display: block; margin: 0 auto\"/>\n",
    "</figure>\n",
    "\n",
    "\n",
    "\n"
   ]
  },
  {
   "attachments": {},
   "cell_type": "markdown",
   "id": "efc92606",
   "metadata": {},
   "source": [
    "Next, go back to your own (forked) version of the class repo and copy the HTTPS link: `https://github.com/iamwfx/4680_5680_intro_uds.git` \n",
    "\n",
    "<figure class=\"image\">\n",
    "<img src=\"https://www.dropbox.com/s/t9bf61h1x9hg10o/Screen%20Shot%202023-01-30%20at%201.48.04%20PM.png?dl=1\" alt=\"drawing\" width=\"600\" style=\"display: block; margin: 0 auto\"/>\n",
    "</figure>\n",
    "\n",
    "\n"
   ]
  },
  {
   "attachments": {},
   "cell_type": "markdown",
   "id": "0fc0ba66",
   "metadata": {},
   "source": [
    "In the **Clone a Repository** window, now put the repo URL in and select **Clone**. \n",
    "\n",
    "Now you *should* be able to run the lecture notebooks from your forked version of the repo. \n",
    "\n",
    "Before class each day, you'll just have to click on **Fetch origin** to update the files for the current class. \n",
    "<figure class=\"image\">\n",
    "<img src=\"https://www.dropbox.com/s/st1ea7zyxavzezn/Screen%20Shot%202023-01-30%20at%202.00.34%20PM.png?dl=1\" alt=\"drawing\" width=\"1000\" style=\"display: block; margin: 0 auto\"/>\n",
    "</figure>\n",
    "\n",
    "\n"
   ]
  }
 ],
 "metadata": {
  "kernelspec": {
   "display_name": "Python 3.8.8 ('gds')",
   "language": "python",
   "name": "python3"
  },
  "language_info": {
   "codemirror_mode": {
    "name": "ipython",
    "version": 3
   },
   "file_extension": ".py",
   "mimetype": "text/x-python",
   "name": "python",
   "nbconvert_exporter": "python",
   "pygments_lexer": "ipython3",
   "version": "3.8.8 | packaged by conda-forge | (default, Feb 20 2021, 16:12:38) \n[Clang 11.0.1 ]"
  },
  "vscode": {
   "interpreter": {
    "hash": "cc571d7ca67236538d190807671ab3198970b7d67f23d825ad141ff90f68066a"
   }
  }
 },
 "nbformat": 4,
 "nbformat_minor": 5
}
